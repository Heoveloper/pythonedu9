{
 "cells": [
  {
   "cell_type": "markdown",
   "id": "b57d5320",
   "metadata": {},
   "source": [
    "### python 표준 모듈"
   ]
  },
  {
   "cell_type": "code",
   "execution_count": 1,
   "id": "ebb89dd5",
   "metadata": {},
   "outputs": [
    {
     "name": "stdout",
     "output_type": "stream",
     "text": [
      "Mon Oct 17 17:07:15 2022\n"
     ]
    }
   ],
   "source": [
    "import time\n",
    "print(time.ctime())"
   ]
  },
  {
   "cell_type": "code",
   "execution_count": 2,
   "id": "3cbbb6ca",
   "metadata": {},
   "outputs": [
    {
     "name": "stdout",
     "output_type": "stream",
     "text": [
      "['__doc__', '__loader__', '__name__', '__package__', '__spec__', 'acos', 'acosh', 'asin', 'asinh', 'atan', 'atan2', 'atanh', 'ceil', 'comb', 'copysign', 'cos', 'cosh', 'degrees', 'dist', 'e', 'erf', 'erfc', 'exp', 'expm1', 'fabs', 'factorial', 'floor', 'fmod', 'frexp', 'fsum', 'gamma', 'gcd', 'hypot', 'inf', 'isclose', 'isfinite', 'isinf', 'isnan', 'isqrt', 'lcm', 'ldexp', 'lgamma', 'log', 'log10', 'log1p', 'log2', 'modf', 'nan', 'nextafter', 'perm', 'pi', 'pow', 'prod', 'radians', 'remainder', 'sin', 'sinh', 'sqrt', 'tan', 'tanh', 'tau', 'trunc', 'ulp']\n"
     ]
    }
   ],
   "source": [
    "import math\n",
    "print(dir(math))"
   ]
  },
  {
   "cell_type": "code",
   "execution_count": 3,
   "id": "714e751a",
   "metadata": {},
   "outputs": [
    {
     "name": "stdout",
     "output_type": "stream",
     "text": [
      "Variable   Type      Data/Info\n",
      "------------------------------\n",
      "math       module    <module 'math' (built-in)>\n",
      "time       module    <module 'time' (built-in)>\n"
     ]
    }
   ],
   "source": [
    "whos"
   ]
  },
  {
   "cell_type": "code",
   "execution_count": 6,
   "id": "80a8af01",
   "metadata": {},
   "outputs": [
    {
     "name": "stdout",
     "output_type": "stream",
     "text": [
      "This module provides access to the mathematical functions\n",
      "defined by the C standard.\n",
      "math\n",
      "\n",
      "ModuleSpec(name='math', loader=<class '_frozen_importlib.BuiltinImporter'>, origin='built-in')\n"
     ]
    }
   ],
   "source": [
    "print(math.__doc__)\n",
    "print(math.__name__)\n",
    "print(math.__package__)\n",
    "print(math.__spec__)"
   ]
  },
  {
   "cell_type": "markdown",
   "id": "d53bbc87",
   "metadata": {},
   "source": [
    "### 클래스 정의 / 객체 생성"
   ]
  },
  {
   "cell_type": "code",
   "execution_count": 14,
   "id": "131d7b40",
   "metadata": {},
   "outputs": [
    {
     "name": "stdout",
     "output_type": "stream",
     "text": [
      "객체 생성\n",
      "객체 생성\n",
      "홍길동\n",
      "30\n",
      "공부하다 홍길동 30\n",
      "먹다 홍길동 30\n",
      "공부하다 홍길순 20\n",
      "먹다 홍길순 20\n"
     ]
    }
   ],
   "source": [
    "# 클래스 정의\n",
    "class Person :\n",
    "    #인스턴스가 공유하는 객체\n",
    "    national = '한국'\n",
    "    #생성자 메소드\n",
    "    def __init__(self, name, age) :\n",
    "        print('객체 생성')\n",
    "        #인스턴스 데이터\n",
    "        self.name = name\n",
    "        self.age = age\n",
    "    def study(self) :\n",
    "        print('공부하다', self.name, self.age)\n",
    "    def eat(self) :\n",
    "        print('먹다', self.name, self.age)\n",
    "\n",
    "    def __del__(self) :\n",
    "        print('Person 객체를 소멸!!')\n",
    "        \n",
    "# 객체 생성\n",
    "p1, p2 = Person('홍길동', 30), Person('홍길순', 20)\n",
    "\n",
    "print(p1.name)\n",
    "print(p1.age)\n",
    "p1.study()\n",
    "p1.eat()\n",
    "p2.study()\n",
    "p2.eat()"
   ]
  },
  {
   "cell_type": "code",
   "execution_count": null,
   "id": "41961044",
   "metadata": {},
   "outputs": [],
   "source": []
  }
 ],
 "metadata": {
  "kernelspec": {
   "display_name": "Python 3 (ipykernel)",
   "language": "python",
   "name": "python3"
  },
  "language_info": {
   "codemirror_mode": {
    "name": "ipython",
    "version": 3
   },
   "file_extension": ".py",
   "mimetype": "text/x-python",
   "name": "python",
   "nbconvert_exporter": "python",
   "pygments_lexer": "ipython3",
   "version": "3.9.12"
  }
 },
 "nbformat": 4,
 "nbformat_minor": 5
}
