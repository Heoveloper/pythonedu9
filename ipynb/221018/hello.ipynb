{
 "cells": [
  {
   "cell_type": "markdown",
   "id": "f4ab1529",
   "metadata": {},
   "source": [
    "### 함수 print()는 콘솔에 출력하는 명령입니다."
   ]
  },
  {
   "cell_type": "code",
   "execution_count": 1,
   "id": "920be95c",
   "metadata": {
    "scrolled": true
   },
   "outputs": [
    {
     "name": "stdout",
     "output_type": "stream",
     "text": [
      "반갑습니다\n"
     ]
    }
   ],
   "source": [
    "print('반갑습니다')"
   ]
  },
  {
   "cell_type": "markdown",
   "id": "724f20e6",
   "metadata": {
    "scrolled": true
   },
   "source": [
    "### 함수 input()은 콘솔로부터 입력을 받는 명령입니다."
   ]
  },
  {
   "cell_type": "code",
   "execution_count": 2,
   "id": "6f57a458",
   "metadata": {
    "scrolled": true
   },
   "outputs": [
    {
     "name": "stdout",
     "output_type": "stream",
     "text": [
      "당신의 이름은? 허준혁\n",
      "나의 이름은: 허준혁\n"
     ]
    }
   ],
   "source": [
    "name = input('당신의 이름은? ')\n",
    "print('나의 이름은: ' + name)"
   ]
  },
  {
   "cell_type": "code",
   "execution_count": null,
   "id": "9ba5d37e",
   "metadata": {},
   "outputs": [],
   "source": [
    "for item in range(10):\n",
    "    print(item)"
   ]
  },
  {
   "cell_type": "code",
   "execution_count": null,
   "id": "017ae6b5",
   "metadata": {},
   "outputs": [],
   "source": [
    "number = [1, 2, 3, 4, 5, 6, 7, 8, 9]\n",
    "for item in number:\n",
    "    print(99 * item)"
   ]
  },
  {
   "cell_type": "markdown",
   "id": "315ddddc",
   "metadata": {},
   "source": [
    "### 원의 넓이 구하는 프로그램을 작성하시오"
   ]
  },
  {
   "cell_type": "code",
   "execution_count": 3,
   "id": "196b1400",
   "metadata": {},
   "outputs": [
    {
     "name": "stdout",
     "output_type": "stream",
     "text": [
      "반지름은? 10\n",
      "반지름은         10 이고 원의 넓이는        314\n"
     ]
    }
   ],
   "source": [
    "radius = input('반지름은? ')\n",
    "areaOfCircle = float(radius) * float(radius) * 3.14\n",
    "print('반지름은 %10s 이고 원의 넓이는 %10d' % (radius, areaOfCircle))\n",
    "# %s는 문자열, %d는 숫자, $10s는 10자리의 문자열"
   ]
  },
  {
   "cell_type": "markdown",
   "id": "6a26d0f3",
   "metadata": {},
   "source": [
    "### 함수 id()는 객체의 주소값을 출력"
   ]
  },
  {
   "cell_type": "code",
   "execution_count": 6,
   "id": "76f6ae80",
   "metadata": {},
   "outputs": [
    {
     "name": "stdout",
     "output_type": "stream",
     "text": [
      "<class 'str'>\n",
      "2723616549552\n",
      "<class 'int'>\n",
      "2723530894544\n",
      "2723616549072\n"
     ]
    }
   ],
   "source": [
    "name = '홍길동'\n",
    "print(type(name))\n",
    "print(id(name))\n",
    "age = 30\n",
    "print(type(age))\n",
    "print(id(age))\n",
    "name2 = '홍길동'\n",
    "print(id(name2))"
   ]
  },
  {
   "cell_type": "markdown",
   "id": "63dfe79c",
   "metadata": {},
   "source": [
    "### whos: 현재 커널에 정의되어 있는 변수 목록을 확인"
   ]
  },
  {
   "cell_type": "code",
   "execution_count": 9,
   "id": "78ece4ec",
   "metadata": {
    "scrolled": true
   },
   "outputs": [
    {
     "name": "stdout",
     "output_type": "stream",
     "text": [
      "Variable       Type     Data/Info\n",
      "---------------------------------\n",
      "age            int      30\n",
      "areaOfCircle   float    314.0\n",
      "name           str      홍길동\n",
      "name2          str      홍길동\n",
      "radius         str      10\n"
     ]
    }
   ],
   "source": [
    "whos"
   ]
  },
  {
   "cell_type": "code",
   "execution_count": null,
   "id": "1b03a8dc",
   "metadata": {},
   "outputs": [],
   "source": [
    "del name2"
   ]
  },
  {
   "cell_type": "code",
   "execution_count": 12,
   "id": "17ee167f",
   "metadata": {},
   "outputs": [
    {
     "name": "stdout",
     "output_type": "stream",
     "text": [
      "Variable       Type     Data/Info\n",
      "---------------------------------\n",
      "age            int      30\n",
      "areaOfCircle   float    314.0\n",
      "name           str      홍길동\n",
      "radius         str      10\n"
     ]
    }
   ],
   "source": [
    "whos"
   ]
  },
  {
   "cell_type": "markdown",
   "id": "688da428",
   "metadata": {},
   "source": [
    "### 함수의 설명 보기\n",
    "* help(함수명): 도움말\n",
    "* 매개값 입력란에 (shift + tab)\n",
    "* 함수명?"
   ]
  },
  {
   "cell_type": "code",
   "execution_count": 14,
   "id": "48e39a38",
   "metadata": {
    "scrolled": true
   },
   "outputs": [
    {
     "name": "stdout",
     "output_type": "stream",
     "text": [
      "Help on built-in function print in module builtins:\n",
      "\n",
      "print(...)\n",
      "    print(value, ..., sep=' ', end='\\n', file=sys.stdout, flush=False)\n",
      "    \n",
      "    Prints the values to a stream, or to sys.stdout by default.\n",
      "    Optional keyword arguments:\n",
      "    file:  a file-like object (stream); defaults to the current sys.stdout.\n",
      "    sep:   string inserted between values, default a space.\n",
      "    end:   string appended after the last value, default a newline.\n",
      "    flush: whether to forcibly flush the stream.\n",
      "\n"
     ]
    }
   ],
   "source": [
    "help(print)"
   ]
  },
  {
   "cell_type": "markdown",
   "id": "d73920bf",
   "metadata": {},
   "source": [
    "### 연산자\n",
    "    ** 지수\n",
    "    /  나누기\n",
    "    // 몫\n",
    "    정수/정수 = 실수 (ex. 2/2 = 1.0)"
   ]
  },
  {
   "cell_type": "code",
   "execution_count": 16,
   "id": "8be65c35",
   "metadata": {},
   "outputs": [
    {
     "name": "stdout",
     "output_type": "stream",
     "text": [
      "4\n",
      "2\n"
     ]
    }
   ],
   "source": [
    "print(2**2)\n",
    "print(6//3)"
   ]
  },
  {
   "cell_type": "markdown",
   "id": "f0718662",
   "metadata": {},
   "source": [
    "### \\\\ 역슬래시"
   ]
  },
  {
   "cell_type": "code",
   "execution_count": 17,
   "id": "7670b5b9",
   "metadata": {},
   "outputs": [
    {
     "name": "stdout",
     "output_type": "stream",
     "text": [
      "\n",
      "a\n",
      "s\n",
      "d\n",
      "f\n",
      "\n"
     ]
    }
   ],
   "source": [
    "str = '''\n",
    "a\n",
    "s\n",
    "d\n",
    "f\n",
    "'''\n",
    "print(str)"
   ]
  },
  {
   "cell_type": "code",
   "execution_count": 18,
   "id": "26079465",
   "metadata": {},
   "outputs": [
    {
     "name": "stdout",
     "output_type": "stream",
     "text": [
      "\n",
      "asdf\n",
      "\n"
     ]
    }
   ],
   "source": [
    "str = '''\n",
    "a\\\n",
    "s\\\n",
    "d\\\n",
    "f\n",
    "'''\n",
    "print(str)"
   ]
  },
  {
   "cell_type": "code",
   "execution_count": 27,
   "id": "116cc285",
   "metadata": {},
   "outputs": [
    {
     "name": "stdout",
     "output_type": "stream",
     "text": [
      "aa 'ss'\n"
     ]
    }
   ],
   "source": [
    "str2 = 'aa \\'ss\\''\n",
    "print(str2)"
   ]
  },
  {
   "cell_type": "code",
   "execution_count": 45,
   "id": "2a0b938c",
   "metadata": {},
   "outputs": [
    {
     "name": "stdout",
     "output_type": "stream",
     "text": [
      "h\n",
      "e\n",
      "i\n",
      "~\n",
      "=====\n",
      "6\n",
      "world. hi~\n",
      "world.\n",
      "hello\n",
      "world\n",
      "hello world. hi~hello world. hi~hello world. hi~\n",
      "hlo\n"
     ]
    }
   ],
   "source": [
    "str3 = 'hello world. hi~'\n",
    "print(str3[0])\n",
    "print(str3[1])\n",
    "print(str3[-2])\n",
    "print(str3[-1])\n",
    "print('=====')\n",
    "print(str3.index(('w')))\n",
    "print(str3[6:])\n",
    "print(str3[6:12])\n",
    "print(str3[:5])\n",
    "print(str3[str3.index('w'):str3.index('d')+1])\n",
    "print(str3[:] * 3)\n",
    "print(str3[0:6:2]) #start:stop:step"
   ]
  },
  {
   "cell_type": "markdown",
   "id": "a1efe341",
   "metadata": {},
   "source": [
    "### 여러값을 요소로 가질 수 있는 객체\n",
    "- 튜플( ) 여러값을 요소로 가질 수 있는 불변 객체\n",
    "    - 요소는 다양한 타입이 올 수 있다.\n",
    "- 리스트[ ] 여러값을 요소로 가질 수 있는 가변 객체\n",
    "- 딕셔너리{ } 키, 값을 쌍으로 갖는 요소를 가질 수 있는 가변 객체"
   ]
  },
  {
   "cell_type": "code",
   "execution_count": 58,
   "id": "8764344c",
   "metadata": {},
   "outputs": [
    {
     "name": "stdout",
     "output_type": "stream",
     "text": [
      "<class 'bool'>\n",
      "<class 'bool'>\n",
      "거짓\n"
     ]
    }
   ],
   "source": [
    "a = True\n",
    "b = False\n",
    "print(type(a))\n",
    "print(type(b))\n",
    "\n",
    "# a = {'student':'학생', 'teacher':'교사'}\n",
    "a = {}\n",
    "if a :\n",
    "    print('참')\n",
    "else :\n",
    "    print('거짓')"
   ]
  },
  {
   "cell_type": "markdown",
   "id": "eb22fd32",
   "metadata": {},
   "source": [
    "### 함수 len(): 문자열 길이"
   ]
  },
  {
   "cell_type": "code",
   "execution_count": 59,
   "id": "c7778eb6",
   "metadata": {},
   "outputs": [
    {
     "data": {
      "text/plain": [
       "5"
      ]
     },
     "execution_count": 59,
     "metadata": {},
     "output_type": "execute_result"
    }
   ],
   "source": [
    "len('hello')"
   ]
  },
  {
   "cell_type": "code",
   "execution_count": 71,
   "id": "4875d66f",
   "metadata": {},
   "outputs": [
    {
     "name": "stdout",
     "output_type": "stream",
     "text": [
      "3\n",
      "dict_items([('student', '학생'), ('teacher', '교사'), ('classroom', '교실')])\n",
      "dict_keys(['student', 'teacher', 'classroom'])\n",
      "dict_values(['학생', '교사', '교실'])\n",
      "학생\n",
      "{'teacher': '교사', 'classroom': '교실'}\n",
      "{'teacher': '교사', 'classroom': '교실', 'student': '학생'}\n"
     ]
    }
   ],
   "source": [
    "dic = {'student':'학생', 'teacher':'교사', 'classroom':'교실'}\n",
    "# 요소 개수\n",
    "print(len(dic))\n",
    "# entry 가져오기\n",
    "print(dic.items())\n",
    "# key 가져오기\n",
    "print(dic.keys())\n",
    "# value 가져오기\n",
    "print(dic.values())\n",
    "\n",
    "# 해당 key의 value 가져오기\n",
    "print(dic['student'])\n",
    "del dic['student']\n",
    "print(dic)\n",
    "dic['student'] = '학생' # 없으면 추가, 있으면 수정\n",
    "print(dic)"
   ]
  },
  {
   "cell_type": "markdown",
   "id": "5a43c02a",
   "metadata": {},
   "source": [
    "### 구구단 출력하기"
   ]
  },
  {
   "cell_type": "code",
   "execution_count": 73,
   "id": "e077fcb3",
   "metadata": {},
   "outputs": [
    {
     "name": "stdout",
     "output_type": "stream",
     "text": [
      "2*1= 2 3*1= 3 4*1= 4 5*1= 5 6*1= 6 7*1= 7 8*1= 8 9*1= 9 \n",
      "2*2= 4 3*2= 6 4*2= 8 5*2=10 6*2=12 7*2=14 8*2=16 9*2=18 \n",
      "2*3= 6 3*3= 9 4*3=12 5*3=15 6*3=18 7*3=21 8*3=24 9*3=27 \n",
      "2*4= 8 3*4=12 4*4=16 5*4=20 6*4=24 7*4=28 8*4=32 9*4=36 \n",
      "2*5=10 3*5=15 4*5=20 5*5=25 6*5=30 7*5=35 8*5=40 9*5=45 \n",
      "2*6=12 3*6=18 4*6=24 5*6=30 6*6=36 7*6=42 8*6=48 9*6=54 \n",
      "2*7=14 3*7=21 4*7=28 5*7=35 6*7=42 7*7=49 8*7=56 9*7=63 \n",
      "2*8=16 3*8=24 4*8=32 5*8=40 6*8=48 7*8=56 8*8=64 9*8=72 \n",
      "2*9=18 3*9=27 4*9=36 5*9=45 6*9=54 7*9=63 8*9=72 9*9=81 \n"
     ]
    }
   ],
   "source": [
    "for i in range (1, 10):\n",
    "    for j in range (2, 10):\n",
    "        print(\"{}*{}={:>2}\".format(j, i, i*j), end=' ')\n",
    "    print()"
   ]
  },
  {
   "cell_type": "code",
   "execution_count": 81,
   "id": "20eba109",
   "metadata": {},
   "outputs": [
    {
     "name": "stdout",
     "output_type": "stream",
     "text": [
      "30\n"
     ]
    }
   ],
   "source": [
    "def add(num1, num2) :\n",
    "    print(num1 + num2)\n",
    "add(10, 20)"
   ]
  },
  {
   "cell_type": "code",
   "execution_count": 92,
   "id": "316803c4",
   "metadata": {},
   "outputs": [
    {
     "name": "stdout",
     "output_type": "stream",
     "text": [
      "30\n"
     ]
    }
   ],
   "source": [
    "def add2(num1, num2) :\n",
    "    '''\n",
    "        매개값을 2개 받아 합을 구하는 함수\n",
    "    '''\n",
    "    return num1 + num2\n",
    "\n",
    "sum = add2(10, 20)\n",
    "print(sum)"
   ]
  },
  {
   "cell_type": "code",
   "execution_count": 93,
   "id": "8ff19bce",
   "metadata": {},
   "outputs": [
    {
     "name": "stdout",
     "output_type": "stream",
     "text": [
      "\n",
      "        매개값을 2개 받아 합을 구하는 함수\n",
      "    \n"
     ]
    }
   ],
   "source": [
    "print(add2.__doc__)"
   ]
  },
  {
   "cell_type": "code",
   "execution_count": 88,
   "id": "a2231ae5",
   "metadata": {},
   "outputs": [
    {
     "name": "stdout",
     "output_type": "stream",
     "text": [
      "30\n"
     ]
    }
   ],
   "source": [
    "add3 = lambda x, y : x + y\n",
    "print(add3(10, 20))"
   ]
  },
  {
   "cell_type": "code",
   "execution_count": 90,
   "id": "b3ca7e65",
   "metadata": {},
   "outputs": [
    {
     "name": "stdout",
     "output_type": "stream",
     "text": [
      "print(value, ..., sep=' ', end='\\n', file=sys.stdout, flush=False)\n",
      "\n",
      "Prints the values to a stream, or to sys.stdout by default.\n",
      "Optional keyword arguments:\n",
      "file:  a file-like object (stream); defaults to the current sys.stdout.\n",
      "sep:   string inserted between values, default a space.\n",
      "end:   string appended after the last value, default a newline.\n",
      "flush: whether to forcibly flush the stream.\n"
     ]
    }
   ],
   "source": [
    "print(print.__doc__)"
   ]
  },
  {
   "cell_type": "code",
   "execution_count": 102,
   "id": "35e48fda",
   "metadata": {},
   "outputs": [
    {
     "name": "stdout",
     "output_type": "stream",
     "text": [
      "5\n"
     ]
    }
   ],
   "source": [
    "i = 5\n",
    "# 정의 시점의 변수값이 저장\n",
    "def func2(arg = i) :\n",
    "    print(arg)\n",
    "    \n",
    "i = 6\n",
    "func2()"
   ]
  },
  {
   "cell_type": "markdown",
   "id": "23edc71a",
   "metadata": {},
   "source": [
    "### 가변인수\n",
    "- *매개변수\n",
    "- 함수 내에서 튜플 자료형으로 사용된다."
   ]
  },
  {
   "cell_type": "code",
   "execution_count": 107,
   "id": "9eaa3e6b",
   "metadata": {},
   "outputs": [
    {
     "name": "stdout",
     "output_type": "stream",
     "text": [
      "150\n"
     ]
    }
   ],
   "source": [
    "def add4(*args) :\n",
    "    sum = 0\n",
    "    for arg in args :\n",
    "        # sum = sum + arg\n",
    "        sum += arg\n",
    "    return print(sum)\n",
    "add4(10, 20, 30, 40, 50)"
   ]
  },
  {
   "cell_type": "markdown",
   "id": "07dbffb4",
   "metadata": {},
   "source": [
    "### 파이썬에서 변수는 객체"
   ]
  },
  {
   "cell_type": "code",
   "execution_count": 7,
   "id": "83d89329",
   "metadata": {},
   "outputs": [
    {
     "name": "stdout",
     "output_type": "stream",
     "text": [
      "<class 'int'>\n",
      "2623657956816\n"
     ]
    }
   ],
   "source": [
    "x = 100\n",
    "print(type(x))\n",
    "print(id(x))"
   ]
  },
  {
   "cell_type": "markdown",
   "id": "02c23a6c",
   "metadata": {},
   "source": [
    "### 사용자로부터 구구단을 입력받아 출력하는 프로그램을 작성하시오"
   ]
  },
  {
   "cell_type": "code",
   "execution_count": 39,
   "id": "d1cd86d3",
   "metadata": {},
   "outputs": [
    {
     "name": "stdout",
     "output_type": "stream",
     "text": [
      "기준 숫자를 입력하세요: 3\n",
      "곱할 숫자를 입력하세요: 7\n",
      "결과값은 21입니다.\n",
      "====================\n",
      "구구단: 3\n",
      " 3  *  1  =  3\n",
      " 3  *  3  =  9\n",
      " 3  *  5  = 15\n",
      " 3  *  7  = 21\n",
      " 3  *  9  = 27\n"
     ]
    }
   ],
   "source": [
    "num = int(input('기준 숫자를 입력하세요: '))\n",
    "multi = int(input('곱할 숫자를 입력하세요: '))\n",
    "answer = num * multi\n",
    "print('결과값은 ' + str(answer) + '입니다.')\n",
    "print('====================')\n",
    "gugudan = int(input('구구단: '))\n",
    "# for i in range(1, 10) :\n",
    "for i in range(1, 10, 2) :\n",
    "    print(r'{:^3} * {:^3} = {:2}'.format(gugudan, i, gugudan*i))\n",
    "    # print(gugudan, '*', i, '=', gugudan * i)\n"
   ]
  },
  {
   "cell_type": "code",
   "execution_count": 27,
   "id": "034ec5c7",
   "metadata": {},
   "outputs": [
    {
     "name": "stdout",
     "output_type": "stream",
     "text": [
      "울산 KH 정보교육원\n",
      "울산 KH 정보교육원\n",
      "울산 - KH - 정보교육원!"
     ]
    }
   ],
   "source": [
    "# sep, end 디폴트값\n",
    "print('울산', 'KH', '정보교육원')\n",
    "print('울산', 'KH', '정보교육원', sep=' ', end='\\n')\n",
    "# //sep, end 디폴트값\n",
    "\n",
    "print('울산', 'KH', '정보교육원', sep=' - ', end='!')"
   ]
  },
  {
   "cell_type": "markdown",
   "id": "af436df8",
   "metadata": {},
   "source": [
    "### 문자열 연결하기"
   ]
  },
  {
   "cell_type": "code",
   "execution_count": 32,
   "id": "05b876b1",
   "metadata": {
    "scrolled": true
   },
   "outputs": [
    {
     "name": "stdout",
     "output_type": "stream",
     "text": [
      "hellohello\n",
      "hellohello\n",
      "hellohellohello\n",
      "hellohellohello\n"
     ]
    }
   ],
   "source": [
    "print('hello'+'hello')\n",
    "print('hello' 'hello')\n",
    "print('hello'*3)\n",
    "print(3*'hello')"
   ]
  },
  {
   "cell_type": "markdown",
   "id": "27e04cce",
   "metadata": {},
   "source": [
    "### 역슬래시 출력\n",
    "* 역슬래시 한 번 더 작성\n",
    "* 문자열 앞에 r을 붙여 raw 문자열을 선언해 사용"
   ]
  },
  {
   "cell_type": "code",
   "execution_count": 36,
   "id": "cb8474c7",
   "metadata": {
    "scrolled": true
   },
   "outputs": [
    {
     "name": "stdout",
     "output_type": "stream",
     "text": [
      "\t \n",
      " \t\n",
      "\\t \\n \\t\n",
      "\\t \\n \\t\n"
     ]
    }
   ],
   "source": [
    "print('\\t \\n \\t')\n",
    "print('\\\\t \\\\n \\\\t')\n",
    "print(r'\\t \\n \\t')"
   ]
  },
  {
   "cell_type": "code",
   "execution_count": 51,
   "id": "4bc318da",
   "metadata": {},
   "outputs": [
    {
     "name": "stdout",
     "output_type": "stream",
     "text": [
      "2022-10-18\n",
      "2022 / 10 / 18\n",
      "22 / 10 / 18\n",
      "22 / 10 / 18 (10/18/22)\n",
      "2022년 10월 18일\n"
     ]
    }
   ],
   "source": [
    "import datetime\n",
    "print(datetime.date(2022, 10, 18))\n",
    "print('{:%Y / %m / %d}'.format(datetime.date(2022, 10, 18)))\n",
    "print('{:%y / %m / %d}'.format(datetime.date(2022, 10, 18)))\n",
    "print('{:%y / %m / %d (%D)}'.format(datetime.date(2022, 10, 18)))\n",
    "print('{:%Y년 %m월 %d일}'.format(datetime.date(2022, 10, 18)))"
   ]
  },
  {
   "cell_type": "markdown",
   "id": "d4eebca2",
   "metadata": {},
   "source": [
    "### 피연산자 2개를 입력받아 몫과 나머지를 구하는 프로그램을 작성하시오\n",
    "* 몫과 나머지 계산은 함수를 사용할 것"
   ]
  },
  {
   "cell_type": "code",
   "execution_count": 59,
   "id": "9259e439",
   "metadata": {},
   "outputs": [
    {
     "name": "stdout",
     "output_type": "stream",
     "text": [
      "피연산자1: 7\n",
      "피연산자2: 3\n",
      "몫: 2 나머지: 1\n"
     ]
    }
   ],
   "source": [
    "num1 = int(input('피연산자1: '))\n",
    "num2 = int(input('피연산자2: '))\n",
    "\n",
    "def calculate(x, y) :\n",
    "    '''\n",
    "        parameter x: 젯수, y: 피젯수\n",
    "        return 몫, 나머지\n",
    "    '''\n",
    "    quotient = x // y # 몫\n",
    "    remainder = x % y # 나머지\n",
    "    return quotient, remainder # 튜플로 반환\n",
    "\n",
    "result = calculate(num1, num2)\n",
    "print('몫: {} 나머지: {}'.format(result[0], result[1]))"
   ]
  },
  {
   "cell_type": "markdown",
   "id": "f2eece29",
   "metadata": {},
   "source": [
    "### 함수 내부 최상단에 정의한 Docstring 확인 가능"
   ]
  },
  {
   "cell_type": "code",
   "execution_count": 60,
   "id": "1270df5a",
   "metadata": {},
   "outputs": [],
   "source": [
    "calculate?"
   ]
  },
  {
   "cell_type": "markdown",
   "id": "558074fc",
   "metadata": {},
   "source": [
    "### 리스트, 튜플\n",
    "* 공통점\n",
    "    * 인덱스를 가진다\n",
    "    * 순서가 있다\n",
    "    * 중복 가능한 요소를 가질 수 있다\n",
    "* 차이점\n",
    "    * 리스트: [], 가변객체(mutable) 즉, 읽기와 쓰기 모두 가능\n",
    "    * 튜플: (), 불변객체(immutable) 즉, 읽기만 가능"
   ]
  },
  {
   "cell_type": "code",
   "execution_count": 64,
   "id": "faab12ac",
   "metadata": {},
   "outputs": [
    {
     "name": "stdout",
     "output_type": "stream",
     "text": [
      "['banana', 'apple', 'grapes', 'orange']\n",
      "('banana', 'apple', 'grapes')\n",
      "orange grapes\n"
     ]
    }
   ],
   "source": [
    "# 리스트 fruit\n",
    "fruit = ['banana', 'apple', 'grapes']\n",
    "\n",
    "# 튜플 fruit2\n",
    "fruit2 = ('banana', 'apple', 'grapes')\n",
    "\n",
    "# 리스트는 가변객체\n",
    "fruit.append('orange')\n",
    "print(fruit)\n",
    "\n",
    "# 튜플은 불변객체\n",
    "fruit.append('orange')\n",
    "print(fruit2)\n",
    "\n",
    "print(fruit[-1], fruit2[-1])\n"
   ]
  },
  {
   "cell_type": "code",
   "execution_count": 76,
   "id": "4b4c4e1e",
   "metadata": {},
   "outputs": [
    {
     "name": "stdout",
     "output_type": "stream",
     "text": [
      "55\n"
     ]
    }
   ],
   "source": [
    "# 1~10 합\n",
    "sum = 0\n",
    "for i in range(1, 10+1) :\n",
    "    sum += i\n",
    "print(sum)"
   ]
  },
  {
   "cell_type": "code",
   "execution_count": 86,
   "id": "b966bf22",
   "metadata": {},
   "outputs": [
    {
     "name": "stdout",
     "output_type": "stream",
     "text": [
      "30\n"
     ]
    }
   ],
   "source": [
    "# 1~10 짝수 합\n",
    "\n",
    "even_sum = 0\n",
    "# for i in range(2, 10+1, 2) :\n",
    "#     even_sum += i\n",
    "for i in range(1, 10+1) :\n",
    "    if i % 2 == 0 :\n",
    "        even_sum += i\n",
    "print(even_sum)"
   ]
  },
  {
   "cell_type": "code",
   "execution_count": 84,
   "id": "8fa4f477",
   "metadata": {},
   "outputs": [
    {
     "name": "stdout",
     "output_type": "stream",
     "text": [
      "정수를 입력하세요: 3\n",
      "홀수\n"
     ]
    }
   ],
   "source": [
    "# 정수를 입력받아 짝수, 홀수 판단하기\n",
    "\n",
    "num = int(input('정수를 입력하세요: '))\n",
    "if num % 2 == 0 :\n",
    "    print('짝수')\n",
    "else :\n",
    "    print('홀수')"
   ]
  },
  {
   "cell_type": "code",
   "execution_count": 93,
   "id": "9719ec14",
   "metadata": {},
   "outputs": [
    {
     "name": "stdout",
     "output_type": "stream",
     "text": [
      "점수를 입력하면 학점을 알려드립니다: 93\n",
      "A\n"
     ]
    }
   ],
   "source": [
    "# 점수를 입력받아 학점 구하기 (90점 이상 A, 80점 이상 B, 70점 이상 C, 60점 이상 D, 60점 미만 F)\n",
    "\n",
    "score = int(input('점수를 입력하면 학점을 알려드립니다: '))\n",
    "\n",
    "if score >= 90 :\n",
    "    print ('A')\n",
    "elif score >= 80 :\n",
    "    print ('B')\n",
    "elif score >= 70 :\n",
    "    print ('C')\n",
    "elif score >= 60 :\n",
    "    print ('D')\n",
    "else :\n",
    "    print ('F')\n",
    "\n"
   ]
  },
  {
   "cell_type": "code",
   "execution_count": 102,
   "id": "120b520b",
   "metadata": {},
   "outputs": [
    {
     "name": "stdout",
     "output_type": "stream",
     "text": [
      "55\n"
     ]
    }
   ],
   "source": [
    "# while문으로 1~10 합 구하기\n",
    "\n",
    "count = 1\n",
    "sum = 0\n",
    "while count <= 10 :\n",
    "    sum += count\n",
    "    count += 1\n",
    "else:\n",
    "    print(sum)"
   ]
  },
  {
   "cell_type": "code",
   "execution_count": 107,
   "id": "19d00e70",
   "metadata": {},
   "outputs": [
    {
     "name": "stdout",
     "output_type": "stream",
     "text": [
      "2550\n"
     ]
    }
   ],
   "source": [
    "# while문으로 1~100 짝수 합 구하기\n",
    "\n",
    "count = 1\n",
    "sum = 0\n",
    "while count <= 100 :\n",
    "    if count % 2 == 0 :\n",
    "        sum += count\n",
    "        count += 1\n",
    "    else :\n",
    "        count += 1\n",
    "else:\n",
    "    print(sum)"
   ]
  },
  {
   "cell_type": "code",
   "execution_count": 116,
   "id": "f7778f15",
   "metadata": {},
   "outputs": [
    {
     "name": "stdout",
     "output_type": "stream",
     "text": [
      "a = 10, b = 20, c = 30\n",
      "a = 1, b = 2, c = 3\n",
      "a = 10, b = 20, c = 30\n"
     ]
    }
   ],
   "source": [
    "# default parameter\n",
    "\n",
    "def func(a, b=2, c=3) :\n",
    "    print('a = {}, b = {}, c = {}'.format(a, b, c))\n",
    "\n",
    "func(10, 20, 30)\n",
    "func(a=1)\n",
    "func(c=30, a=10, b=20)"
   ]
  },
  {
   "cell_type": "code",
   "execution_count": 115,
   "id": "f809e190",
   "metadata": {
    "scrolled": true
   },
   "outputs": [
    {
     "name": "stdout",
     "output_type": "stream",
     "text": [
      "3\n"
     ]
    }
   ],
   "source": [
    "print(round(3.14))"
   ]
  }
 ],
 "metadata": {
  "kernelspec": {
   "display_name": "Python 3 (ipykernel)",
   "language": "python",
   "name": "python3"
  },
  "language_info": {
   "codemirror_mode": {
    "name": "ipython",
    "version": 3
   },
   "file_extension": ".py",
   "mimetype": "text/x-python",
   "name": "python",
   "nbconvert_exporter": "python",
   "pygments_lexer": "ipython3",
   "version": "3.9.12"
  }
 },
 "nbformat": 4,
 "nbformat_minor": 5
}
